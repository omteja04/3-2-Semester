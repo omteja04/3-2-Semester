{
 "cells": [
  {
   "cell_type": "markdown",
   "metadata": {},
   "source": [
    "#### [**Home**](https://omteja04.github.io/3-2-Semester/)\n",
    "## [**Download Jupyter File**](https://github.com/omteja04/3-2-Semester/blob/master/MLP-Lab/Programs.ipynb)"
   ]
  },
  {
   "cell_type": "markdown",
   "metadata": {},
   "source": [
    "### Experiment-1: \n",
    "**Implement and demonstrate the _FIND-S_ algorithm for finding the most specific hypothesis based on a given set of training data samples. Read the training data from a .CSV file.**\n",
    "\n",
    "[**Kaggle link for dataset**](https://www.kaggle.com/datasets/mohitsinha4/enjoysport/data)\n",
    "\n",
    "[**Download Dataset**](https://github.com/omteja04/3-2-Semester/blob/master/MLP-Lab/enjoy_sport.csv)"
   ]
  },
  {
   "cell_type": "code",
   "execution_count": 44,
   "metadata": {},
   "outputs": [
    {
     "name": "stdout",
     "output_type": "stream",
     "text": [
      "Dataset:\n",
      "       0     1       2       3     4       5    6\n",
      "0  sunny  warm  normal  strong  warm    same  yes\n",
      "1  sunny  warm    high  strong  warm    same  yes\n",
      "2  rainy  cold    high  strong  warm  change   no\n",
      "3  sunny  warm    high  strong  cool  change  yes\n",
      "\n",
      "Initial Hypothesis:  ['0', '0', '0', '0', '0', '0']\n",
      "\n",
      "Find-S Algorithm Execution\n",
      "Training Example No 1, Hypothesis: ['sunny', 'warm', 'normal', 'strong', 'warm', 'same']\n",
      "Training Example No 2, Hypothesis: ['sunny', 'warm', '?', 'strong', 'warm', 'same']\n",
      "Training Example No 3, Hypothesis: ['sunny', 'warm', '?', 'strong', 'warm', 'same']\n",
      "Training Example No 4, Hypothesis: ['sunny', 'warm', '?', 'strong', '?', '?']\n",
      "\n",
      "Maximally Specific Hypothesis:  ['sunny', 'warm', '?', 'strong', '?', '?']\n"
     ]
    }
   ],
   "source": [
    "import pandas as pd  # Import pandas for reading CSV files\n",
    "\n",
    "# Read the dataset\n",
    "dataset = pd.read_csv(\"enjoy_sport.csv\", header=None)\n",
    "\n",
    "# Convert the dataset into a list of lists for easier processing\n",
    "data = dataset.values.tolist()\n",
    "\n",
    "# Print the dataset for reference\n",
    "print(\"Dataset:\")\n",
    "print(dataset)\n",
    "\n",
    "# Number of attributes in the dataset (excluding the target column)\n",
    "num_attributes = len(data[0]) - 1 #6\n",
    "\n",
    "# Initialize the hypothesis with the most specific values ('0')\n",
    "hypothesis = ['0'] * num_attributes\n",
    "\n",
    "print(\"\\nInitial Hypothesis: \", hypothesis)\n",
    "print(\"\\nFind-S Algorithm Execution\")\n",
    "\n",
    "# Set the first positive example as the initial hypothesis\n",
    "hypothesis = data[0][:-1]\n",
    "\n",
    "# Iterate through the dataset\n",
    "for index, example in enumerate(data):\n",
    "    # If the target value is 'yes' (positive example)\n",
    "    if example[num_attributes] == 'yes':\n",
    "        # Update the hypothesis\n",
    "        for attribute_index in range(num_attributes):\n",
    "            if example[attribute_index] != hypothesis[attribute_index]:\n",
    "                hypothesis[attribute_index] = '?'  # Generalize conflicting attributes\n",
    "    # Print the hypothesis after processing each example\n",
    "    print(f\"Training Example No {index + 1}, Hypothesis: {hypothesis}\")\n",
    "\n",
    "# Output the final hypothesis\n",
    "print(\"\\nMaximally Specific Hypothesis: \", hypothesis)\n"
   ]
  },
  {
   "cell_type": "markdown",
   "metadata": {},
   "source": [
    "### Experiment-2: \n",
    " \n",
    "**For a given set of training data examples stored in a .CSV file, implement and demonstrate the _Candidate Elimination_ algorithm to output a description of the set of all hypotheses consistent with the raining examples.**\n",
    "\n",
    "[**Kaggle link for dataset**](https://www.kaggle.com/datasets/mohitsinha4/enjoysport/data)\n",
    "\n",
    "[**Download Dataset**](https://github.com/omteja04/3-2-Semester/blob/master/MLP-Lab/enjoy_sport.csv)"
   ]
  },
  {
   "cell_type": "code",
   "execution_count": 45,
   "metadata": {
    "scrolled": true
   },
   "outputs": [
    {
     "name": "stdout",
     "output_type": "stream",
     "text": [
      "Initialization of Specific Hypothesis:\n",
      "['sunny' 'warm' 'high' 'strong' 'warm' 'same']\n",
      "\n",
      "Initialization of General Hypotheses:\n",
      "[['?', '?', '?', '?', '?', '?'], ['?', '?', '?', '?', '?', '?'], ['?', '?', '?', '?', '?', '?'], ['?', '?', '?', '?', '?', '?'], ['?', '?', '?', '?', '?', '?'], ['?', '?', '?', '?', '?', '?']]\n",
      "\n",
      "Processing Positive Instance 1: ['sunny' 'warm' 'high' 'strong' 'warm' 'same']\n",
      "\n",
      "Updated Specific Hypothesis:\n",
      "['sunny' 'warm' 'high' 'strong' 'warm' 'same']\n",
      "\n",
      "Updated General Hypotheses:\n",
      "[['?', '?', '?', '?', '?', '?'], ['?', '?', '?', '?', '?', '?'], ['?', '?', '?', '?', '?', '?'], ['?', '?', '?', '?', '?', '?'], ['?', '?', '?', '?', '?', '?'], ['?', '?', '?', '?', '?', '?']]\n",
      "\n",
      "\n",
      "\n",
      "Processing Negative Instance 2: ['rainy' 'cold' 'high' 'strong' 'warm' 'change']\n",
      "\n",
      "Updated Specific Hypothesis:\n",
      "['sunny' 'warm' 'high' 'strong' 'warm' 'same']\n",
      "\n",
      "Updated General Hypotheses:\n",
      "[['sunny', '?', '?', '?', '?', '?'], ['?', 'warm', '?', '?', '?', '?'], ['?', '?', '?', '?', '?', '?'], ['?', '?', '?', '?', '?', '?'], ['?', '?', '?', '?', '?', '?'], ['?', '?', '?', '?', '?', 'same']]\n",
      "\n",
      "\n",
      "\n",
      "Processing Positive Instance 3: ['sunny' 'warm' 'high' 'strong' 'cool' 'change']\n",
      "\n",
      "Updated Specific Hypothesis:\n",
      "['sunny' 'warm' 'high' 'strong' '?' '?']\n",
      "\n",
      "Updated General Hypotheses:\n",
      "[['sunny', '?', '?', '?', '?', '?'], ['?', 'warm', '?', '?', '?', '?'], ['?', '?', '?', '?', '?', '?'], ['?', '?', '?', '?', '?', '?'], ['?', '?', '?', '?', '?', '?'], ['?', '?', '?', '?', '?', '?']]\n",
      "\n",
      "\n",
      "\n",
      "Final Specific Hypothesis:\n",
      "['sunny' 'warm' 'high' 'strong' '?' '?']\n",
      "\n",
      "Final General Hypotheses:\n",
      "[['sunny', '?', '?', '?', '?', '?'], ['?', 'warm', '?', '?', '?', '?']]\n"
     ]
    }
   ],
   "source": [
    "import numpy as np\n",
    "import pandas as pd\n",
    "\n",
    "# Load the dataset\n",
    "data = pd.read_csv('enjoy_sport.csv')\n",
    "\n",
    "# Extract features (concepts) and labels (target)\n",
    "features = np.array(data.iloc[:, 0:-1])  # All columns except the last one\n",
    "labels = np.array(data.iloc[:, -1])      # The last column\n",
    "\n",
    "def learn(features, labels):\n",
    "    # Initialize the specific hypothesis with the first instance\n",
    "    specific_hypothesis = features[0].copy()\n",
    "    print(\"Initialization of Specific Hypothesis:\")\n",
    "    print(specific_hypothesis)\n",
    "\n",
    "    # Initialize the general hypothesis as a set of all \"?\" (most general form)\n",
    "    general_hypotheses = [[\"?\" for _ in range(len(specific_hypothesis))] for _ in range(len(specific_hypothesis))]\n",
    "    print(\"\\nInitialization of General Hypotheses:\")\n",
    "    print(general_hypotheses)\n",
    "\n",
    "    # Iterate over all examples\n",
    "    for instance_idx, instance in enumerate(features):\n",
    "        if labels[instance_idx] == \"yes\":  # Positive instance\n",
    "            print(f\"\\nProcessing Positive Instance {instance_idx + 1}: {instance}\")\n",
    "            for feature_idx in range(len(specific_hypothesis)):\n",
    "                if instance[feature_idx] != specific_hypothesis[feature_idx]:\n",
    "                    specific_hypothesis[feature_idx] = '?'\n",
    "                    general_hypotheses[feature_idx][feature_idx] = '?'\n",
    "\n",
    "        elif labels[instance_idx] == \"no\":  # Negative instance\n",
    "            print(f\"\\nProcessing Negative Instance {instance_idx + 1}: {instance}\")\n",
    "            for feature_idx in range(len(specific_hypothesis)):\n",
    "                if instance[feature_idx] != specific_hypothesis[feature_idx]:\n",
    "                    general_hypotheses[feature_idx][feature_idx] = specific_hypothesis[feature_idx]\n",
    "                else:\n",
    "                    general_hypotheses[feature_idx][feature_idx] = '?'\n",
    "\n",
    "        print(\"\\nUpdated Specific Hypothesis:\")\n",
    "        print(specific_hypothesis)\n",
    "        print(\"\\nUpdated General Hypotheses:\")\n",
    "        print(general_hypotheses)\n",
    "        print(\"\\n\")\n",
    "\n",
    "    # Remove redundant general hypotheses\n",
    "    cleaned_general_hypotheses = [\n",
    "        hypothesis for hypothesis in general_hypotheses\n",
    "        if hypothesis != ['?' for _ in range(len(specific_hypothesis))]\n",
    "    ]\n",
    "\n",
    "    return specific_hypothesis, cleaned_general_hypotheses\n",
    "\n",
    "# Run the algorithm\n",
    "final_specific_hypothesis, final_general_hypotheses = learn(features, labels)\n",
    "\n",
    "# Output results\n",
    "print(\"\\nFinal Specific Hypothesis:\")\n",
    "print(final_specific_hypothesis)\n",
    "\n",
    "print(\"\\nFinal General Hypotheses:\")\n",
    "print(final_general_hypotheses)"
   ]
  },
  {
   "cell_type": "markdown",
   "metadata": {},
   "source": [
    "### Experiment-3: \n",
    "**Write a program to demonstrate the working of the decision tree based _ID3_ algorithm. Use an appropriate data set for building the decision tree and apply this knowledge to classify a new sample.**\n"
   ]
  },
  {
   "cell_type": "code",
   "execution_count": 46,
   "metadata": {},
   "outputs": [
    {
     "name": "stdout",
     "output_type": "stream",
     "text": [
      "Decision Tree: {'Outlook': {'Sunny': {'Humidity': {'High': 'No', 'Normal': 'Yes'}}, 'Overcast': 'Yes', 'Rain': {'Wind': {'Weak': 'Yes', 'Strong': 'No'}}}}\n",
      "Prediction: Yes\n"
     ]
    }
   ],
   "source": [
    "import pandas as pd\n",
    "import numpy as np\n",
    "\n",
    "def entropy(col):\n",
    "    values, counts = np.unique(col, return_counts=True)\n",
    "    probs = counts / counts.sum()\n",
    "    return -np.sum(probs * np.log2(probs))\n",
    "\n",
    "def information_gain(df, attribute, target):\n",
    "    total_entropy = entropy(df[target])\n",
    "    values, counts = np.unique(df[attribute], return_counts=True)\n",
    "    weighted_entropy = sum((counts[i] / len(df)) * entropy(df[df[attribute] == values[i]][target]) for i in range(len(values)))\n",
    "    return total_entropy - weighted_entropy\n",
    "\n",
    "def find_best_attribute(df, target):\n",
    "    return max(df.columns[:-1], key=lambda attr: information_gain(df, attr, target))\n",
    "\n",
    "def build_tree(df):\n",
    "    target = df.columns[-1]\n",
    "    if len(df[target].unique()) == 1:\n",
    "        return df[target].iloc[0]\n",
    "    if len(df.columns) == 1:\n",
    "        return df[target].mode()[0]\n",
    "    \n",
    "    best_attr = find_best_attribute(df, target)\n",
    "    tree = {best_attr: {}}\n",
    "    for val in df[best_attr].unique():\n",
    "        subtree = build_tree(df[df[best_attr] == val].drop(columns=[best_attr]))\n",
    "        tree[best_attr][val] = subtree\n",
    "    return tree\n",
    "\n",
    "def classify(tree, test):\n",
    "    if not isinstance(tree, dict):\n",
    "        return tree\n",
    "    attribute = next(iter(tree))\n",
    "    return classify(tree[attribute].get(test.get(attribute), list(tree[attribute].values())[0]), test)\n",
    "\n",
    "# Load dataset\n",
    "df = pd.read_csv('playtennis.csv')\n",
    "\n",
    "decision_tree = build_tree(df)\n",
    "print(\"Decision Tree:\", decision_tree)\n",
    "\n",
    "# Test sample\n",
    "test_sample = {'Outlook': 'Sunny', 'Temperature': 'Hot', 'Humidity': 'Normal', 'Wind': 'Strong'}\n",
    "print(\"Prediction:\", classify(decision_tree, test_sample))"
   ]
  },
  {
   "cell_type": "markdown",
   "metadata": {},
   "source": [
    "### Experiment-4: \n",
    "**Exercises to solve the real-world problems using the following machine learning methods: a) Linear \n",
    "Regression b) Logistic Regression c) Binary Classifier**\n"
   ]
  },
  {
   "cell_type": "markdown",
   "metadata": {},
   "source": [
    "#### Linear Regression"
   ]
  },
  {
   "cell_type": "code",
   "execution_count": 47,
   "metadata": {},
   "outputs": [
    {
     "name": "stdout",
     "output_type": "stream",
     "text": [
      "Feature (x):\n",
      " [[0.5488135 ]\n",
      " [0.71518937]\n",
      " [0.60276338]\n",
      " [0.54488318]\n",
      " [0.4236548 ]\n",
      " [0.64589411]\n",
      " [0.43758721]\n",
      " [0.891773  ]\n",
      " [0.96366276]\n",
      " [0.38344152]] \n",
      "\n",
      "Target (y):\n",
      " [[4.11203136]\n",
      " [4.57580608]\n",
      " [4.28163052]\n",
      " [4.10193387]\n",
      " [3.89169592]\n",
      " [4.32515566]\n",
      " [4.02458233]\n",
      " [4.76303018]\n",
      " [4.95863229]\n",
      " [3.68147346]] \n",
      "\n",
      "Predicted Value for x=0.5: [[4.03919002]]\n"
     ]
    },
    {
     "data": {
      "image/png": "[encoded data removed]",
      "text/plain": [
       "<Figure size 640x480 with 1 Axes>"
      ]
     },
     "metadata": {},
     "output_type": "display_data"
    }
   ],
   "source": [
    "import numpy as np\n",
    "from sklearn.linear_model import LinearRegression\n",
    "import matplotlib.pyplot as plt\n",
    "\n",
    "# Set random seed for reproducibility\n",
    "np.random.seed(0)\n",
    "\n",
    "# Generate random data\n",
    "x = np.random.rand(10, 1)  # Feature variable\n",
    "y = 3 + 2*x + np.random.randn(10, 1)/10  # Linear relationship with noise\n",
    "\n",
    "# Print dataset\n",
    "print(\"Feature (x):\\n\", x, \"\\n\")\n",
    "print(\"Target (y):\\n\", y, \"\\n\")\n",
    "\n",
    "# Train Linear Regression model\n",
    "model = LinearRegression()\n",
    "model.fit(x, y)\n",
    "\n",
    "# Predict for a new value\n",
    "x_new = np.array([[0.5]])  # Corrected input format\n",
    "y_pred = model.predict(x_new)\n",
    "\n",
    "print(\"Predicted Value for x=0.5:\", y_pred)\n",
    "\n",
    "# Plot data points\n",
    "plt.scatter(x, y, color='blue', label=\"Actual Data\")\n",
    "\n",
    "# Plot regression line\n",
    "plt.plot(x, model.predict(x), color='red', label=\"Regression Line\")\n",
    "\n",
    "# Display the plot\n",
    "plt.xlabel(\"Feature (x)\")\n",
    "plt.ylabel(\"Target (y)\")\n",
    "plt.title(\"Linear Regression Example\")\n",
    "plt.legend()\n",
    "plt.show()\n"
   ]
  },
  {
   "cell_type": "markdown",
   "metadata": {},
   "source": [
    "#### Binary Classifier"
   ]
  },
  {
   "cell_type": "code",
   "execution_count": 48,
   "metadata": {},
   "outputs": [
    {
     "name": "stdout",
     "output_type": "stream",
     "text": [
      "Model Accuracy: 0.7700\n",
      "Mean Squared Error (MSE): 0.2300\n"
     ]
    }
   ],
   "source": [
    "from sklearn.datasets import make_classification\n",
    "from sklearn.model_selection import train_test_split\n",
    "from sklearn.linear_model import LogisticRegression\n",
    "from sklearn.metrics import accuracy_score, mean_squared_error\n",
    "import numpy as np\n",
    "import pandas as pd\n",
    "\n",
    "# Generate synthetic binary classification data\n",
    "x, y = make_classification(n_samples=1000, n_features=10, n_informative=5, \n",
    "                           n_redundant=0, n_repeated=0, n_classes=2, random_state=42)\n",
    "\n",
    "# Convert to DataFrame for better visualization\n",
    "df = pd.DataFrame(x, columns=[f\"Feature_{i}\" for i in range(1, 11)])\n",
    "df[\"Target\"] = y\n",
    "\n",
    "# Split the dataset into training and testing sets\n",
    "x_train, x_test, y_train, y_test = train_test_split(x, y, test_size=0.2, random_state=42)\n",
    "\n",
    "# Train a Logistic Regression model\n",
    "model = LogisticRegression()\n",
    "model.fit(x_train, y_train)\n",
    "\n",
    "# Make predictions\n",
    "y_pred = model.predict(x_test)\n",
    "\n",
    "# Evaluate the model\n",
    "accuracy = accuracy_score(y_test, y_pred)\n",
    "mse = mean_squared_error(y_test, y_pred)\n",
    "\n",
    "# Print results\n",
    "print(f\"Model Accuracy: {accuracy:.4f}\")\n",
    "print(f\"Mean Squared Error (MSE): {mse:.4f}\")\n"
   ]
  },
  {
   "cell_type": "markdown",
   "metadata": {},
   "source": [
    "### Experiment-14: \n",
    "**Write a program to Implement Support Vector Machines and Principle Component Analysis**\n"
   ]
  },
  {
   "cell_type": "code",
   "execution_count": 49,
   "metadata": {},
   "outputs": [
    {
     "name": "stdout",
     "output_type": "stream",
     "text": [
      "Accuracy: 1.0\n",
      "\n",
      "Classification Report:\n",
      "               precision    recall  f1-score   support\n",
      "\n",
      "           0       1.00      1.00      1.00        19\n",
      "           1       1.00      1.00      1.00        13\n",
      "           2       1.00      1.00      1.00        13\n",
      "\n",
      "    accuracy                           1.00        45\n",
      "   macro avg       1.00      1.00      1.00        45\n",
      "weighted avg       1.00      1.00      1.00        45\n",
      "\n",
      "\n",
      "Confusion Matrix:\n",
      " [[19  0  0]\n",
      " [ 0 13  0]\n",
      " [ 0  0 13]]\n"
     ]
    }
   ],
   "source": [
    "import numpy as np\n",
    "import pandas as pd\n",
    "from sklearn.model_selection import train_test_split\n",
    "from sklearn.svm import SVC\n",
    "from sklearn.metrics import accuracy_score, classification_report, confusion_matrix\n",
    "from sklearn import datasets\n",
    "\n",
    "# **Load the Iris dataset**\n",
    "iris = datasets.load_iris()\n",
    "X = iris.data  # Features\n",
    "y = iris.target  # Labels\n",
    "\n",
    "# **Split into Training (70%) & Testing (30%) sets**\n",
    "X_train, X_test, y_train, y_test = train_test_split(X, y, test_size=0.3, random_state=42)\n",
    "\n",
    "# **Train the SVM model**\n",
    "svm_model = SVC(kernel='linear', C=1.0, random_state=42)\n",
    "svm_model.fit(X_train, y_train)\n",
    "\n",
    "# **Make predictions**\n",
    "y_pred = svm_model.predict(X_test)\n",
    "\n",
    "# **Evaluate the model**\n",
    "accuracy = accuracy_score(y_test, y_pred)\n",
    "print(\"Accuracy:\", accuracy)\n",
    "\n",
    "# **Print Classification Report**\n",
    "print(\"\\nClassification Report:\\n\", classification_report(y_test, y_pred))\n",
    "\n",
    "# **Print Confusion Matrix**\n",
    "conf_matrix = confusion_matrix(y_test, y_pred)\n",
    "print(\"\\nConfusion Matrix:\\n\", conf_matrix)\n"
   ]
  },
  {
   "cell_type": "markdown",
   "metadata": {},
   "source": [
    "### Experiment: \n",
    "**DBSCAN**\n"
   ]
  },
  {
   "cell_type": "code",
   "execution_count": 50,
   "metadata": {},
   "outputs": [
    {
     "name": "stdout",
     "output_type": "stream",
     "text": [
      "Unique cluster labels found: {np.int64(0), np.int64(1), np.int64(2), np.int64(3), np.int64(-1)}\n"
     ]
    },
    {
     "data": {
      "image/png": "[encoded data removed]",
      "text/plain": [
       "<Figure size 640x480 with 2 Axes>"
      ]
     },
     "metadata": {},
     "output_type": "display_data"
    }
   ],
   "source": [
    "import numpy as np\n",
    "import matplotlib.pyplot as plt\n",
    "from sklearn.datasets import make_blobs\n",
    "from sklearn.cluster import DBSCAN\n",
    "\n",
    "X, y_true = make_blobs(n_samples=400, centers=4, cluster_std=0.5, random_state=42)\n",
    "\n",
    "\n",
    "# **Apply DBSCAN**\n",
    "dbscan = DBSCAN(eps=0.3, min_samples=10).fit(X)\n",
    "\n",
    "labels = dbscan.labels_\n",
    "\n",
    "print(f\"Unique cluster labels found: {set(labels)}\")\n",
    "plt.scatter(X[:, 0], X[:, 1], c=labels, cmap=\"viridis\", edgecolors=\"k\", marker='o')\n",
    "plt.colorbar(label=\"Cluster Label\")\n",
    "plt.xlabel(\"Feature 1\")\n",
    "plt.ylabel(\"Feature 2\")\n",
    "plt.title(\"DBSCAN Clustering on make_blobs Data\")\n",
    "plt.show()\n"
   ]
  },
  {
   "cell_type": "markdown",
   "metadata": {},
   "source": [
    "### Experiment-12: \n",
    "**Exploratory data analysis for classification using Pandas or Matplotlib**\n"
   ]
  },
  {
   "cell_type": "code",
   "execution_count": null,
   "metadata": {},
   "outputs": [],
   "source": []
  }
 ],
 "metadata": {
  "kernelspec": {
   "display_name": "Python 3 (ipykernel)",
   "language": "python",
   "name": "python3"
  },
  "language_info": {
   "codemirror_mode": {
    "name": "ipython",
    "version": 3
   },
   "file_extension": ".py",
   "mimetype": "text/x-python",
   "name": "python",
   "nbconvert_exporter": "python",
   "pygments_lexer": "ipython3",
   "version": "3.13.0"
  }
 },
 "nbformat": 4,
 "nbformat_minor": 4
}
